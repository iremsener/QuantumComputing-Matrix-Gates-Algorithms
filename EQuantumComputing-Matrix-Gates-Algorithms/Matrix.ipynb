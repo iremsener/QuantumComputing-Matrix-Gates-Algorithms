{
 "cells": [
  {
   "cell_type": "markdown",
   "metadata": {},
   "source": [
    "# Quantum Computing: Matrix, Gates and Algorithms\n",
    "\n",
    "This project focuses on matrix operations and quantum gates, which form the basis of quantum programming. Understanding the mathematical aspect of quantum computing is the key to traversing the gates of the quantum world. This project aims to provide an in-depth analysis of matrix theory and quantum gates for anyone interested in quantum programming.\n",
    "\n",
    "In our project, we cover the mathematical foundations necessary to understand the role of matrix operations in the quantum world. Then, we study how qubits and quantum gates interact with matrices. In this project, we emphasise the following topics:\n",
    "\n",
    "The Role of Matrices in Quantum Programming: How matrices, the cornerstone of quantum computation, are used and how they represent quantum states.\n",
    "Mathematical Foundations of Quantum Gates: Matrix representations of quantum gates and their effects on qubit states.\n",
    "Hands-on Examples and Algorithms: Examples and algorithms that show how you can apply matrix operations and quantum gates to real-world problems.\n",
    "\n",
    "<font color=\"blue\">\n",
    "    \n",
    "Content:\n",
    "    \n",
    "1. [Matrix](#1)\n",
    "    * [Basic Operations in Matrices: Operations](#2)\n",
    "         \n",
    "    * [Special Matrix](#3)"
   ]
  },
  {
   "cell_type": "code",
   "execution_count": 1,
   "metadata": {},
   "outputs": [],
   "source": [
    "# This Python 3 environment comes with many helpful analytics libraries installed\n",
    "# It is defined by the kaggle/python Docker image: https://github.com/kaggle/docker-python\n",
    "# For example, here's several helpful packages to load\n",
    "\n",
    "import numpy as np # linear algebra\n",
    "import pandas as pd # data processing, CSV file I/O (e.g. pd.read_csv)\n",
    "from qiskit import *\n",
    "\n",
    "# Input data files are available in the read-only \"../input/\" directory\n",
    "# For example, running this (by clicking run or pressing Shift+Enter) will list all files under the input directory\n",
    "\n",
    "import os\n",
    "for dirname, _, filenames in os.walk('/kaggle/input'):\n",
    "    for filename in filenames:\n",
    "        print(os.path.join(dirname, filename))\n",
    "\n",
    "# You can write up to 20GB to the current directory (/kaggle/working/) that gets preserved as output when you create a version using \"Save & Run All\" \n",
    "# You can also write temporary files to /kaggle/temp/, but they won't be saved outside of the current session"
   ]
  },
  {
   "cell_type": "markdown",
   "metadata": {},
   "source": [
    "<a id=\"1\"></a>\n",
    "## Matrix"
   ]
  },
  {
   "cell_type": "markdown",
   "metadata": {},
   "source": [
    "What is a Matrix?\n",
    "\n",
    "A matrix is a mathematical structure and is a table in which numbers or symbols are arranged in an orderly manner. A matrix refers to a layout created between rows and columns, and each cell represents an element of the matrix. Matrices are used for various mathematical calculations and applications.\n",
    "\n",
    "Example of a matrix:\n",
    "\n",
    "[ 2 4 6 ]<br>\n",
    "[ 1 3 5 ]<br>\n",
    "[ 7 8 9 ]\n",
    "\n",
    " Matrices are expressed as 2x2, 3x3, 4x4 depending on their size. For example, the matrix above is of size 3x3.\n",
    "\n",
    "Especially Quantum Computing, which is the subject we will examine now: Matrices are also frequently used in quantum computing.\n",
    "\n",
    "  Apart from this :\n",
    "\n",
    "* Linear Equations and Systems: Matrices are used to represent linear equations and solve systems of equations.\n",
    "\n",
    "* Graphic Design and Image Processing: Matrices are used to represent pixel values and colours of images.\n",
    "\n",
    "* Data Analysis and Statistics: Matrices are used to represent, analyse and organise data sets.\n",
    "\n",
    "* Engineering and Physics: Matrices are used to express transformations, scaling and physical problems.\n",
    "\n",
    "    Matrices play a fundamental role in many different areas of the mathematical world and allow us to express many problems in a more structured and understandable way.\n"
   ]
  },
  {
   "cell_type": "markdown",
   "metadata": {},
   "source": [
    "<a id=\"2\"></a>\n",
    "### Basic Operations in Matrices: Operations \n",
    "\n",
    "Matrices are fundamental building blocks with a wide range of applications in the mathematical world. Operations on matrices help us understand operations used in many fields and solve real-world problems."
   ]
  },
  {
   "cell_type": "markdown",
   "metadata": {},
   "source": [
    "#### 1. Matrix Summation:\n",
    "\n",
    "We add the elements of matrices of the same size. Instead of each element, we add the element of the other matrix in the same position.\n",
    "\n",
    "\n",
    " <table>\n",
    "  <tr>\n",
    "    <td>\n",
    "      [[1, 2, 3]<br>\n",
    "      [4, 5, 6]<br>\n",
    "      [7, 8, 9]]\n",
    "    </td>\n",
    "    <td style=\"padding: 10px;\">+</td>\n",
    "    <td>\n",
    "      [[9, 8, 7]<br>\n",
    "      [6, 5, 4]<br>\n",
    "      [3, 2, 1]]\n",
    "    </td>\n",
    "    <td style=\"padding: 10px;\">=</td>\n",
    "    <td>\n",
    "      [[10, 10, 10]<br>\n",
    "      [10, 10, 10]<br>\n",
    "      [10, 10, 10]]\n",
    "    </td>\n",
    "  </tr>\n",
    "</table> \n"
   ]
  },
  {
   "cell_type": "code",
   "execution_count": 2,
   "metadata": {},
   "outputs": [
    {
     "name": "stdout",
     "output_type": "stream",
     "text": [
      "Matrix Sum:\n",
      "[10, 10, 10]\n",
      "[10, 10, 10]\n",
      "[10, 10, 10]\n"
     ]
    }
   ],
   "source": [
    "def matrix_addition(matrix1, matrix2):\n",
    "    result = []\n",
    "    for i in range(len(matrix1)):\n",
    "        row = []\n",
    "        for j in range(len(matrix1[0])):\n",
    "            row.append(matrix1[i][j] + matrix2[i][j])\n",
    "        result.append(row)\n",
    "    return result\n",
    "\n",
    "matrix1 = [[1, 2, 3],\n",
    "           [4, 5, 6],\n",
    "           [7, 8, 9]]\n",
    "\n",
    "matrix2 = [[9, 8, 7],\n",
    "           [6, 5, 4],\n",
    "           [3, 2, 1]]\n",
    "\n",
    "result = matrix_addition(matrix1, matrix2)\n",
    "print(\"Matrix Sum:\")\n",
    "for row in result:\n",
    "    print(row)"
   ]
  },
  {
   "cell_type": "markdown",
   "metadata": {},
   "source": [
    "#### 2. Matrix Multiplication:\n",
    "\n",
    "Multiplication of matrices is calculated by multiplying and adding the row and column elements appropriately.\n",
    "\n",
    "<table>\n",
    "  <tr>\n",
    "    <td>\n",
    "      [[1, 2]<br>\n",
    "      [3, 4]]\n",
    "    </td>\n",
    "    <td style=\"padding: 10px;\">*</td>\n",
    "    <td>\n",
    "      [[5, 6]<br>\n",
    "      [7, 8]]\n",
    "    </td>\n",
    "    <td style=\"padding: 10px;\">=</td>\n",
    "    <td>\n",
    "      [[19, 22]<br>\n",
    "      [43, 50]]\n",
    "    </td>\n",
    "  </tr>\n",
    "</table>\n",
    "For multiplication, the dimensions of the result matrix are equal to the number of rows of the first matrix and the number of columns of the second matrix. So the result matrix will be of size 2x2.<br><br>\n",
    "\n",
    "\n",
    "To calculate the first element of the result matrix:\n",
    "[ 1 * 5 + 2 * 7 ] = [ 19 ]\n",
    "\n",
    "To calculate the second element of the result matrix:\n",
    "[ 1 * 6 + 2 * 8 ] = [ 22 ]\n",
    "\n",
    "To calculate the third element of the result matrix:\n",
    "[ 3 * 5 + 4 * 7 ] = [ 43 ]\n",
    "\n",
    "To calculate the fourth element of the result matrix:\n",
    "[ 3 * 6 + 4 * 8 ] = [ 50 ]"
   ]
  },
  {
   "cell_type": "code",
   "execution_count": 3,
   "metadata": {},
   "outputs": [
    {
     "name": "stdout",
     "output_type": "stream",
     "text": [
      "Matrix Multiplication:\n",
      "[19, 22]\n",
      "[43, 50]\n"
     ]
    }
   ],
   "source": [
    "def matrix_multiplication(matrix1, matrix2):\n",
    "    result = []\n",
    "    for i in range(len(matrix1)):\n",
    "        row = []\n",
    "        for j in range(len(matrix2[0])):\n",
    "            sum = 0\n",
    "            for k in range(len(matrix2)):\n",
    "                sum += matrix1[i][k] * matrix2[k][j]\n",
    "            row.append(sum)\n",
    "        result.append(row)\n",
    "    return result\n",
    "\n",
    "matrix1 = [[1, 2],\n",
    "           [3, 4]]\n",
    "\n",
    "matrix2 = [[5, 6],\n",
    "           [7, 8]]\n",
    "\n",
    "result = matrix_multiplication(matrix1, matrix2)\n",
    "print(\"Matrix Multiplication:\")\n",
    "for row in result:\n",
    "    print(row)"
   ]
  },
  {
   "cell_type": "markdown",
   "metadata": {},
   "source": [
    "#### 3. Matrix Scalar Multiplication:\n",
    "\n",
    "Multiplying a matrix by a number means multiplying all its elements by that number.\n",
    "\n",
    "<table>\n",
    "  <tr>\n",
    "    <td>\n",
    "      [[1, 2, 3]<br>\n",
    "      [4, 5, 6]<br>\n",
    "      [7, 8, 9]]\n",
    "    </td>\n",
    "    <td style=\"padding: 10px;\">×</td>\n",
    "    <td>\n",
    "      2\n",
    "    </td>\n",
    "    <td style=\"padding: 10px;\">=</td>\n",
    "    <td>\n",
    "      [[2, 4, 6]<br>\n",
    "      [8, 10, 12]<br>\n",
    "      [14, 16, 18]]\n",
    "    </td>\n",
    "  </tr>\n",
    "</table>\n",
    "\n",
    "Multiplying all elements of a matrix by a scalar (number) means multiplying each element by this scalar value to create a new matrix.\n",
    "\n",
    "\n",
    "To calculate the first row of the result matrix: [ 1 * 2 , 2 * 2 , 3 * 2 ]<br>\n",
    "\n",
    "\n",
    "To calculate the second row of the result matrix: [ 4 * 2 , 5 * 2 , 6 * 2 ]<br>\n",
    "\n",
    "\n",
    "To calculate the third row of the result matrix: [ 7 * 2 , 8 * 2 , 9 * 2 ]"
   ]
  },
  {
   "cell_type": "code",
   "execution_count": 4,
   "metadata": {},
   "outputs": [
    {
     "name": "stdout",
     "output_type": "stream",
     "text": [
      "2 Multiplied Matrix:\n",
      "[2, 4, 6]\n",
      "[8, 10, 12]\n",
      "[14, 16, 18]\n"
     ]
    }
   ],
   "source": [
    "def matrix_scalar_multiplication(matrix, scalar):\n",
    "    result = []\n",
    "    for i in range(len(matrix)):\n",
    "        row = []\n",
    "        for j in range(len(matrix[0])):\n",
    "            row.append(matrix[i][j] * scalar)\n",
    "        result.append(row)\n",
    "    return result\n",
    "\n",
    "matrix = [[1, 2, 3],\n",
    "          [4, 5, 6],\n",
    "          [7, 8, 9]]\n",
    "\n",
    "scalar = 2\n",
    "\n",
    "result = matrix_scalar_multiplication(matrix, scalar)\n",
    "print(f\"{scalar} Multiplied Matrix:\")\n",
    "for row in result:\n",
    "    print(row)"
   ]
  },
  {
   "cell_type": "markdown",
   "metadata": {},
   "source": [
    "<a id=\"3\"></a>\n",
    "#### Special Matrix"
   ]
  },
  {
   "cell_type": "markdown",
   "metadata": {},
   "source": [
    "##### Identıty Matrix (I)\n",
    "Identity matrix, also known as unit matrix, is a special type of square matrix. It is a matrix whose diagonal elements are all 1 (one) and all other elements are all 0 (zero). It is usually denoted by the symbols \"I\" or \"E\". Identity matrix acts as a neutral element in matrix multiplication. So when you multiply any matrix by identity matrix, the same matrix is obtained as a result.\n",
    "\n",
    "Identity matrix example in 3x3 size is as follows:\n",
    "\n",
    "\n",
    "[ 1 0 0 ] <br>\n",
    "[ 0 1 0 ]<br>\n",
    "[ 0 0 1 ]\n",
    "\n",
    "Identity matrix plays a very important role in matrix theory and linear algebra. It is used in many application areas such as finding the inverse of matrices, solving linear equations and constructing transformation matrices."
   ]
  },
  {
   "cell_type": "code",
   "execution_count": 5,
   "metadata": {},
   "outputs": [
    {
     "name": "stdout",
     "output_type": "stream",
     "text": [
      "[1, 0, 0]\n",
      "[0, 1, 0]\n",
      "[0, 0, 1]\n"
     ]
    }
   ],
   "source": [
    "def create_identity_matrix(size):\n",
    "    identity_matrix = []\n",
    "    for i in range(size):\n",
    "        row = []\n",
    "        for j in range(size):\n",
    "            if i == j:\n",
    "                row.append(1)\n",
    "            else:\n",
    "                row.append(0)\n",
    "        identity_matrix.append(row)\n",
    "    return identity_matrix\n",
    "\n",
    "size = 3  # You can specify the desired size here.\n",
    "identity_matrix = create_identity_matrix(size)\n",
    "\n",
    "for row in identity_matrix:\n",
    "    print(row)"
   ]
  },
  {
   "cell_type": "markdown",
   "metadata": {},
   "source": [
    "##### Inverse Matrix\n",
    "\n",
    "The inverse matrix is a fundamental concept in linear algebra and is the inverse of a square matrix. The inverse of matrix A is denoted as A-¹, which when multiplied by the original matrix A gives the unit matrix I:\n",
    "\n",
    "A * A-¹ = I\n",
    "\n",
    "The inverse of a matrix is found when the matrix is non-indefinite (its determinant is non-zero). Inverse matrices are used to solve systems of linear equations, to perform transformations and for many other purposes."
   ]
  },
  {
   "cell_type": "code",
   "execution_count": 6,
   "metadata": {},
   "outputs": [
    {
     "name": "stdout",
     "output_type": "stream",
     "text": [
      "Original Matrix:\n",
      "[[1 2]\n",
      " [3 4]]\n",
      "\n",
      "Inverse Matrix:\n",
      "[[-2.   1. ]\n",
      " [ 1.5 -0.5]]\n"
     ]
    }
   ],
   "source": [
    "# Define matrix\n",
    "matrix = np.array([[1, 2],\n",
    "                   [3, 4]])\n",
    "\n",
    "# Calculate the reverse\n",
    "ters_matris = np.linalg.inv(matrix)\n",
    "\n",
    "print(\"Original Matrix:\")\n",
    "print(matrix)\n",
    "\n",
    "print(\"\\nInverse Matrix:\")\n",
    "print(ters_matris)"
   ]
  },
  {
   "cell_type": "markdown",
   "metadata": {},
   "source": [
    "##### Transpose\n",
    "\n",
    "The transpose of a matrix is an operation that replaces the rows of the matrix with columns. The resulting matrix is called the transpose of the original matrix. If the original matrix is denoted by A, its transpose is denoted by A^T or A'.\n",
    "\n",
    "Mathematically, if A is a matrix of dimension m x n, then its transpose A^T is a matrix of dimension n x m and the element in row i and column j of A is the element in column i of row j in the matrix A^T.\n",
    "\n",
    "In simpler terms, the rows of the original matrix become the columns of the transposed matrix and the columns of the original matrix become the rows of the transposed matrix."
   ]
  },
  {
   "cell_type": "code",
   "execution_count": 7,
   "metadata": {},
   "outputs": [
    {
     "name": "stdout",
     "output_type": "stream",
     "text": [
      "Original Matrix:\n",
      "[[1 2 3]\n",
      " [4 5 6]]\n",
      "\n",
      "Transpose Matrix:\n",
      "[[1 4]\n",
      " [2 5]\n",
      " [3 6]]\n"
     ]
    }
   ],
   "source": [
    "# Define the matrix\n",
    "matrix = np.array([[1, 2, 3],\n",
    "                   [4, 5, 6]])\n",
    "\n",
    "# Calculate the transpose\n",
    "transpose_matrix = np.transpose(matrix)\n",
    "\n",
    "print(\"Original Matrix:\")\n",
    "print(matrix)\n",
    "\n",
    "print(\"\\nTranspose Matrix:\")\n",
    "print(transpose_matrix)"
   ]
  },
  {
   "cell_type": "markdown",
   "metadata": {},
   "source": [
    "##### Complex Conjugate\n",
    "\n",
    "In matrices, the term \"complex conjugate\" refers to a new matrix formed by taking the conjugate complex number of each element when each element of the matrix is a complex number.\n",
    "\n",
    "\n",
    "\n",
    "<table>\n",
    "  <tr>\n",
    "    <td>3 + 2i</td>\n",
    "    <td>1 - 5i</td>\n",
    "  </tr>\n",
    "  <tr>\n",
    "    <td>7 + 9i</td>\n",
    "    <td>4 + 6i</td>\n",
    "  </tr>\n",
    "</table>\n",
    "\n",
    "\n",
    "<table border=\"1\">\n",
    "  <tr>\n",
    "    <td>3 - 2i</td>\n",
    "    <td>1 + 5i</td>\n",
    "  </tr>\n",
    "  <tr>\n",
    "    <td>7 - 9i</td>\n",
    "    <td>4 - 6i</td>\n",
    "  </tr>\n",
    "</table>\n",
    "\n",
    "The adjoint transpose of a matrix, also known as conjugate transpose or Hermitian transpose, is a mathematical operation that consists of two steps: first taking the transpose of the matrix, then taking the complex conjugate of each element.\n",
    "\n",
    "If A is a matrix, its adjoint transpose is denoted A^† or A^H. In this operation, first the transpose of matrix A is taken, then the complex conjugate of each element is taken.\n",
    "\n",
    "Mathematically, if A is a matrix of dimension m x n, then the adjoint transpose A^† is a matrix of dimension n x m and the element in row i and column j of matrix A^† is the complex conjugate of the element in row j and column i of matrix A.\n",
    "\n",
    "In simpler terms, the rows of the original matrix become the columns of the adjoint transpose matrix and the complex conjugate of each element is taken."
   ]
  },
  {
   "cell_type": "code",
   "execution_count": 8,
   "metadata": {},
   "outputs": [
    {
     "name": "stdout",
     "output_type": "stream",
     "text": [
      "Original Matrix:\n",
      "[[1.+2.j 3.-4.j]\n",
      " [5.+6.j 7.-8.j]]\n",
      "\n",
      "Adjoint Transpose Matrix:\n",
      "[[1.-2.j 5.-6.j]\n",
      " [3.+4.j 7.+8.j]]\n"
     ]
    }
   ],
   "source": [
    "# Define the matrix\n",
    "matrix = np.array([[1+2j, 3-4j],\n",
    "                   [5+6j, 7-8j]])\n",
    "\n",
    "# Calculate the adjoint transpose\n",
    "adjoint_transpose_matrix = np.conjugate(np.transpose(matrix))\n",
    "\n",
    "print(\"Original Matrix:\")\n",
    "print(matrix)\n",
    "\n",
    "print(\"\\nAdjoint Transpose Matrix:\")\n",
    "print(adjoint_transpose_matrix)"
   ]
  },
  {
   "cell_type": "markdown",
   "metadata": {},
   "source": [
    "##### Unitery Matrix\n",
    "\n",
    "Unitary matrix, or unit matrix, is an important concept in linear algebra. For a matrix to be unitary means that its adjoint transpose (Hermitian transpose) is equal to its inverse.\n",
    "\n",
    "Mathematically, if matrix A is unitary, the following condition is satisfied:\n",
    "A * A^† = A^† * A = I\n",
    "\n",
    "Here the matrix A is equal to the inverse of the matrix A^† and I is the identity matrix.\n",
    "\n",
    "Unitary matrices are used in various mathematical and physical applications. They are especially common in quantum mechanics and wave theory."
   ]
  },
  {
   "cell_type": "code",
   "execution_count": 9,
   "metadata": {},
   "outputs": [
    {
     "name": "stdout",
     "output_type": "stream",
     "text": [
      "Original Matrix:\n",
      "[[ 0.+1.j  1.+0.j]\n",
      " [ 1.+0.j -0.-1.j]]\n",
      "\n",
      "Adjoint Transpose Matrix:\n",
      "[[ 0.-1.j  1.-0.j]\n",
      " [ 1.-0.j -0.+1.j]]\n",
      "\n",
      "Product Matrix:\n",
      "[[ 2.+0.j -0.+2.j]\n",
      " [ 0.-2.j  2.+0.j]]\n"
     ]
    }
   ],
   "source": [
    "# Define a 2x2 matrix\n",
    "matrix = np.array([[1j, 1],\n",
    "                   [1, -1j]])\n",
    "\n",
    "# Take the adjoint transpose\n",
    "adjoint_transpose = np.conjugate(np.transpose(matrix))\n",
    "\n",
    "# Multiply the matrix by its adjoint transpose\n",
    "product = np.dot(matrix, adjoint_transpose)\n",
    "\n",
    "# Print the results\n",
    "print(\"Original Matrix:\")\n",
    "print(matrix)\n",
    "\n",
    "print(\"\\nAdjoint Transpose Matrix:\")\n",
    "print(adjoint_transpose)\n",
    "\n",
    "print(\"\\nProduct Matrix:\")\n",
    "print(product)"
   ]
  },
  {
   "cell_type": "markdown",
   "metadata": {},
   "source": [
    "##### Hermitian Matrix\n",
    "\n",
    "For a matrix to be Hermitian (eigenadjoint or eigensymmetric) means that when the matrix is transposed, each element is identical to its complex conjugate:<br>\n",
    "A^† = A"
   ]
  },
  {
   "cell_type": "code",
   "execution_count": 10,
   "metadata": {},
   "outputs": [
    {
     "name": "stdout",
     "output_type": "stream",
     "text": [
      "Original Matrix:\n",
      "[[3.+2.j 1.-5.j]\n",
      " [1.+5.j 4.+6.j]]\n",
      "\n",
      "Transpose Matrix:\n",
      "[[3.+2.j 1.+5.j]\n",
      " [1.-5.j 4.+6.j]]\n",
      "\n",
      "Complex Conjugate Matrix:\n",
      "[[3.-2.j 1.+5.j]\n",
      " [1.-5.j 4.-6.j]]\n",
      "\n",
      "The matrix is not Hermitian.\n"
     ]
    }
   ],
   "source": [
    "# Define a Hermitian matrix\n",
    "matrix = np.array([[3 + 2j, 1 - 5j],\n",
    "                   [1 + 5j, 4 + 6j]])\n",
    "\n",
    "# Take the transpose of the matrix and calculate its complex conjugate\n",
    "transpose = np.transpose(matrix)\n",
    "conjugate = np.conjugate(matrix)\n",
    "\n",
    "# Check if the matrix is Hermitian\n",
    "is_hermitian = np.allclose(transpose, conjugate)\n",
    "\n",
    "# Print the results\n",
    "print(\"Original Matrix:\")\n",
    "print(matrix)\n",
    "\n",
    "print(\"\\nTranspose Matrix:\")\n",
    "print(transpose)\n",
    "\n",
    "print(\"\\nComplex Conjugate Matrix:\")\n",
    "print(conjugate)\n",
    "\n",
    "if is_hermitian:\n",
    "    print(\"\\nThe matrix is Hermitian.\")\n",
    "else:\n",
    "    print(\"\\nThe matrix is not Hermitian.\")"
   ]
  },
  {
   "cell_type": "markdown",
   "metadata": {},
   "source": [
    "##### Vector\n",
    "\n",
    "In quantum computers, vectors are used to represent the states of qubits. In quantum computing, vectors and matrices play an important role in understanding qubit states and the interaction of quantum gates."
   ]
  }
 ],
 "metadata": {
  "kernelspec": {
   "display_name": "Python 3",
   "language": "python",
   "name": "python3"
  },
  "language_info": {
   "codemirror_mode": {
    "name": "ipython",
    "version": 3
   },
   "file_extension": ".py",
   "mimetype": "text/x-python",
   "name": "python",
   "nbconvert_exporter": "python",
   "pygments_lexer": "ipython3",
   "version": "3.8.2"
  },
  "orig_nbformat": 4
 },
 "nbformat": 4,
 "nbformat_minor": 2
}
