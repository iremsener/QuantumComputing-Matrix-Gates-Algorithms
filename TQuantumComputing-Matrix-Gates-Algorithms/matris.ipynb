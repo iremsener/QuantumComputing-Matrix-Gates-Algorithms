{
 "cells": [
  {
   "cell_type": "markdown",
   "metadata": {},
   "source": [
    "# Kuantum Hesaplama: Matris, Kapılar ve Algoritmalar\n",
    "\n",
    "Bu proje, kuantum programlamanın temelini oluşturan matris işlemlerine ve kuantum kapılarına odaklanmaktadır. Kuantum hesaplamanın matematiksel yönünü anlamak, kuantum dünyasının kapılarından geçmenin anahtarıdır. Bu proje, kuantum programlama ile ilgilenen herkes için matris teorisi ve kuantum kapılarının derinlemesine bir analizini sağlamayı amaçlamaktadır.\n",
    "\n",
    "Projemizde, matris işlemlerinin kuantum dünyasındaki rolünü anlamak için gerekli matematiksel temelleri ele alıyoruz. Ardından, kübitlerin ve kuantum kapılarının matrislerle nasıl etkileşime girdiğini inceliyoruz. Bu projede aşağıdaki konuları vurguluyoruz:\n",
    "\n",
    "Kuantum Programlamada Matrislerin Rolü: Kuantum hesaplamanın temel taşı olan matrislerin nasıl kullanıldığı ve kuantum durumlarını nasıl temsil ettiği.\n",
    "Kuantum Kapılarının Matematiksel Temelleri: Kuantum kapılarının matris gösterimleri ve kübit durumları üzerindeki etkileri.\n",
    "Uygulamalı Örnekler ve Algoritmalar: Matris işlemlerini ve kuantum kapılarını gerçek dünya problemlerine nasıl uygulayabileceğinizi gösteren örnekler ve algoritmalar.\n",
    "\n",
    "<font color=\"blue\">\n",
    "    \n",
    "İçerik:\n",
    "    \n",
    "1. [Matris](#1)\n",
    "    * [Matrislerde Temel İşlemler: İşlemler](#2)\n",
    "         \n",
    "    * [Özel Matrisler](#3)"
   ]
  },
  {
   "cell_type": "code",
   "execution_count": 23,
   "metadata": {},
   "outputs": [],
   "source": [
    "\n",
    "\n",
    "import numpy as np # linear algebra\n",
    "import pandas as pd # data processing, CSV file I/O (e.g. pd.read_csv)\n",
    "from qiskit import *\n",
    "\n",
    "\n"
   ]
  },
  {
   "cell_type": "markdown",
   "metadata": {},
   "source": [
    "<a id=\"1\"></a>\n",
    "## Matris"
   ]
  },
  {
   "cell_type": "markdown",
   "metadata": {},
   "source": [
    "Matris matematiksel bir yapıdır ve sayıların veya sembollerin düzenli bir şekilde sıralandığı bir tablodur. Bir matris, satırlar ve sütunlar arasında oluşturulan bir düzeni ifade eder ve her hücre matrisin bir öğesini temsil eder. Matrisler çeşitli matematiksel hesaplamalar ve uygulamalar için kullanılır.\n",
    "\n",
    "Bir matris örneği:\n",
    "\n",
    "[ 2 4 6 ]<br>\n",
    "[ 1 3 5 ]<br>\n",
    "[ 7 8 9 ]\n",
    "\n",
    "Matrisler boyutlarına göre 2x2, 3x3, 4x4 olarak ifade edilir. Örneğin yukarıdaki matris 3x3 boyutundadır.\n",
    "\n",
    "Özellikle şimdi inceleyeceğimiz konu olan Kuantum Hesaplama: Kuantum hesaplamada da matrisler sıklıkla kullanılmaktadır.\n",
    "\n",
    "  Bunun dışında :\n",
    "\n",
    "* Doğrusal Denklemler ve Sistemler: Matrisler doğrusal denklemleri temsil etmek ve denklem sistemlerini çözmek için kullanılır.\n",
    "\n",
    "* Grafik Tasarım ve Görüntü İşleme: Matrisler, görüntülerin piksel değerlerini ve renklerini temsil etmek için kullanılır.\n",
    "\n",
    "* Veri Analizi ve İstatistik: Matrisler veri setlerini temsil etmek, analiz etmek ve düzenlemek için kullanılır.\n",
    "\n",
    "* Mühendislik ve Fizik: Matrisler dönüşümleri, ölçeklendirmeyi ve fiziksel problemleri ifade etmek için kullanılır.\n",
    "\n",
    "    Matrisler matematik dünyasının birçok farklı alanında temel bir rol oynar ve birçok problemi daha yapılandırılmış ve anlaşılır bir şekilde ifade etmemizi sağlar."
   ]
  },
  {
   "cell_type": "markdown",
   "metadata": {},
   "source": [
    "<a id=\"2\"></a>\n",
    "### Matrislerde Temel İşlemler: İşlemler \n",
    "\n",
    "Matrisler, matematik dünyasında çok çeşitli uygulamaları olan temel yapı taşlarıdır. Matrisler üzerindeki işlemler, birçok alanda kullanılan işlemleri anlamamıza ve gerçek dünya problemlerini çözmemize yardımcı olur."
   ]
  },
  {
   "cell_type": "markdown",
   "metadata": {},
   "source": [
    "#### 1. Matris Toplama:\n",
    "\n",
    "Aynı boyuttaki matrislerin elemanlarını toplarız. Her bir eleman yerine diğer matrisin aynı konumdaki elemanını ekleriz.\n",
    "\n",
    "<table>\n",
    "  <tr>\n",
    "    <td>\n",
    "      [[1, 2, 3]<br>\n",
    "      [4, 5, 6]<br>\n",
    "      [7, 8, 9]]\n",
    "    </td>\n",
    "    <td style=\"padding: 10px;\">+</td>\n",
    "    <td>\n",
    "      [[9, 8, 7]<br>\n",
    "      [6, 5, 4]<br>\n",
    "      [3, 2, 1]]\n",
    "    </td>\n",
    "    <td style=\"padding: 10px;\">=</td>\n",
    "    <td>\n",
    "      [[10, 10, 10]<br>\n",
    "      [10, 10, 10]<br>\n",
    "      [10, 10, 10]]\n",
    "    </td>\n",
    "  </tr>\n",
    "</table> \n"
   ]
  },
  {
   "cell_type": "code",
   "execution_count": 24,
   "metadata": {},
   "outputs": [
    {
     "name": "stdout",
     "output_type": "stream",
     "text": [
      "Matris Toplamı:\n",
      "[10, 10, 10]\n",
      "[10, 10, 10]\n",
      "[10, 10, 10]\n"
     ]
    }
   ],
   "source": [
    "def matrix_addition(matrix1, matrix2):\n",
    "    result = []\n",
    "    for i in range(len(matrix1)):\n",
    "        row = []\n",
    "        for j in range(len(matrix1[0])):\n",
    "            row.append(matrix1[i][j] + matrix2[i][j])\n",
    "        result.append(row)\n",
    "    return result\n",
    "\n",
    "matrix1 = [[1, 2, 3],\n",
    "           [4, 5, 6],\n",
    "           [7, 8, 9]]\n",
    "\n",
    "matrix2 = [[9, 8, 7],\n",
    "           [6, 5, 4],\n",
    "           [3, 2, 1]]\n",
    "\n",
    "result = matrix_addition(matrix1, matrix2)\n",
    "print(\"Matris Toplamı:\")\n",
    "for row in result:\n",
    "    print(row)"
   ]
  },
  {
   "cell_type": "markdown",
   "metadata": {},
   "source": [
    "\n",
    "\n",
    "\n",
    "#### 2. Matris Çarpımı:\n",
    "\n",
    "Matrislerin çarpımı, satır ve sütun elemanlarının uygun şekilde çarpılması ve toplanması ile hesaplanır.\n",
    "\n",
    "<table>\n",
    "  <tr>\n",
    "    <td>\n",
    "      [[1, 2]<br>\n",
    "      [3, 4]]\n",
    "    </td>\n",
    "    <td style=\"padding: 10px;\">*</td>\n",
    "    <td>\n",
    "      [[5, 6]<br>\n",
    "      [7, 8]]\n",
    "    </td>\n",
    "    <td style=\"padding: 10px;\">=</td>\n",
    "    <td>\n",
    "      [[19, 22]<br>\n",
    "      [43, 50]]\n",
    "    </td>\n",
    "  </tr>\n",
    "  </table>\n",
    "\n",
    "\n",
    "Çarpma işlemi için sonuç matrisinin boyutları birinci matrisin satır sayısına ve ikinci matrisin sütun sayısına eşittir. Yani sonuç matrisi 2x2 boyutunda olacaktır.<br><br>\n",
    "\n",
    "\n",
    "Sonuç matrisinin ilk elemanını hesaplamak için:\n",
    "[ 1 * 5 + 2 * 7 ] = [ 19 ]\n",
    "\n",
    "Sonuç matrisinin ikinci elemanını hesaplamak için:\n",
    "[ 1 * 6 + 2 * 8 ] = [ 22 ]\n",
    "\n",
    "Sonuç matrisinin üçüncü elemanını hesaplamak için:\n",
    "[ 3 * 5 + 4 * 7 ] = [ 43 ]\n",
    "\n",
    "Sonuç matrisinin dördüncü elemanını hesaplamak için:\n",
    "[ 3 * 6 + 4 * 8 ] = [ 50 ]"
   ]
  },
  {
   "cell_type": "code",
   "execution_count": 25,
   "metadata": {},
   "outputs": [
    {
     "name": "stdout",
     "output_type": "stream",
     "text": [
      "Matris çarpımı:\n",
      "[19, 22]\n",
      "[43, 50]\n"
     ]
    }
   ],
   "source": [
    "def matrix_multiplication(matrix1, matrix2):\n",
    "    result = []\n",
    "    for i in range(len(matrix1)):\n",
    "        row = []\n",
    "        for j in range(len(matrix2[0])):\n",
    "            sum = 0\n",
    "            for k in range(len(matrix2)):\n",
    "                sum += matrix1[i][k] * matrix2[k][j]\n",
    "            row.append(sum)\n",
    "        result.append(row)\n",
    "    return result\n",
    "\n",
    "matrix1 = [[1, 2],\n",
    "           [3, 4]]\n",
    "\n",
    "matrix2 = [[5, 6],\n",
    "           [7, 8]]\n",
    "\n",
    "result = matrix_multiplication(matrix1, matrix2)\n",
    "print(\"Matris çarpımı:\")\n",
    "for row in result:\n",
    "    print(row)"
   ]
  },
  {
   "cell_type": "markdown",
   "metadata": {},
   "source": [
    "#### 3. Matris Skaler Çarpımı:\n",
    "\n",
    "Bir matrisin bir sayı ile çarpılması, tüm elemanlarının o sayı ile çarpılması anlamına gelir.\n",
    "\n",
    "<table>\n",
    "  <tr>\n",
    "    <td>\n",
    "      [[1, 2, 3]<br>\n",
    "      [4, 5, 6]<br>\n",
    "      [7, 8, 9]]\n",
    "    </td>\n",
    "    <td style=\"padding: 10px;\">×</td>\n",
    "    <td>\n",
    "      2\n",
    "    </td>\n",
    "    <td style=\"padding: 10px;\">=</td>\n",
    "    <td>\n",
    "      [[2, 4, 6]<br>\n",
    "      [8, 10, 12]<br>\n",
    "      [14, 16, 18]]\n",
    "    </td>\n",
    "  </tr>\n",
    "</table>\n",
    "\n",
    "Bir matrisin tüm elemanlarını bir skaler (sayı) ile çarpmak, yeni bir matris oluşturmak için her bir elemanı bu skaler değerle çarpmak anlamına gelir.\n",
    "\n",
    "Sonuç matrisinin ilk satırını hesaplamak için: [ 1 * 2 , 2 * 2 , 3 * 2 ]<br>\n",
    "\n",
    "\n",
    "Sonuç matrisinin ikinci satırını hesaplamak için: [ 4 * 2 , 5 * 2 , 6 * 2 ]<br>\n",
    "\n",
    "\n",
    "Sonuç matrisinin üçüncü satırını hesaplamak için: [ 7 * 2 , 8 * 2 , 9 * 2 ]"
   ]
  },
  {
   "cell_type": "code",
   "execution_count": 26,
   "metadata": {},
   "outputs": [
    {
     "name": "stdout",
     "output_type": "stream",
     "text": [
      "2 Çarpılmış Matris:\n",
      "[2, 4, 6]\n",
      "[8, 10, 12]\n",
      "[14, 16, 18]\n"
     ]
    }
   ],
   "source": [
    "def matrix_scalar_multiplication(matrix, scalar):\n",
    "    result = []\n",
    "    for i in range(len(matrix)):\n",
    "        row = []\n",
    "        for j in range(len(matrix[0])):\n",
    "            row.append(matrix[i][j] * scalar)\n",
    "        result.append(row)\n",
    "    return result\n",
    "\n",
    "matrix = [[1, 2, 3],\n",
    "          [4, 5, 6],\n",
    "          [7, 8, 9]]\n",
    "\n",
    "scalar = 2\n",
    "\n",
    "result = matrix_scalar_multiplication(matrix, scalar)\n",
    "print(f\"{scalar} Çarpılmış Matris:\")\n",
    "for row in result:\n",
    "    print(row)"
   ]
  },
  {
   "cell_type": "markdown",
   "metadata": {},
   "source": [
    "<a id=\"3\"></a>\n",
    "#### Özel Matrisler"
   ]
  },
  {
   "cell_type": "markdown",
   "metadata": {},
   "source": [
    "##### Birim (kare) Matrisi (I)\n",
    "Birim matris olarak da bilinen özdeşlik matrisi, kare matrisin özel bir türüdür. Köşegen elemanlarının tümü 1 (bir) ve diğer tüm elemanlarının tümü 0 (sıfır) olan bir matristir. Genellikle \"I\" veya \"E\" sembolleri ile gösterilir. Özdeşlik matrisi, matris çarpımında nötr bir eleman olarak işlev görür. Yani herhangi bir matrisi özdeşlik matrisi ile çarptığınızda sonuç olarak aynı matris elde edilir.\n",
    "\n",
    "3x3 boyutunda özdeşlik matrisi örneği aşağıdaki gibidir:\n",
    "\n",
    "[ 1 0 0 ] <br>\n",
    "[ 0 1 0 ]<br>\n",
    "[ 0 0 1 ]\n",
    "\n",
    "Özdeşlik matrisi, matris teorisi ve lineer cebirde çok önemli bir rol oynar. Matrislerin tersinin bulunması, doğrusal denklemlerin çözülmesi ve dönüşüm matrislerinin oluşturulması gibi birçok uygulama alanında kullanılır."
   ]
  },
  {
   "cell_type": "code",
   "execution_count": 27,
   "metadata": {},
   "outputs": [
    {
     "name": "stdout",
     "output_type": "stream",
     "text": [
      "[1, 0, 0]\n",
      "[0, 1, 0]\n",
      "[0, 0, 1]\n"
     ]
    }
   ],
   "source": [
    "def create_identity_matrix(size):\n",
    "    identity_matrix = []\n",
    "    for i in range(size):\n",
    "        row = []\n",
    "        for j in range(size):\n",
    "            if i == j:\n",
    "                row.append(1)\n",
    "            else:\n",
    "                row.append(0)\n",
    "        identity_matrix.append(row)\n",
    "    return identity_matrix\n",
    "\n",
    "size = 3  # İstediğiniz boyutu burada belirtebilirsiniz.\n",
    "identity_matrix = create_identity_matrix(size)\n",
    "\n",
    "for row in identity_matrix:\n",
    "    print(row)"
   ]
  },
  {
   "cell_type": "markdown",
   "metadata": {},
   "source": [
    "##### Ters Matris\n",
    "\n",
    "Ters matris, lineer cebirde temel bir kavramdır ve bir kare matrisin tersidir. A matrisinin tersi A-¹ olarak gösterilir ve orijinal A matrisi ile çarpıldığında birim matris I'yı verir:\n",
    "\n",
    "A * A-¹ = I\n",
    "\n",
    "Bir matrisin tersi, matris sonsuz olmadığında (determinantı sıfır olmadığında) bulunur. Ters matrisler doğrusal denklem sistemlerini çözmek, dönüşümleri gerçekleştirmek ve diğer birçok amaç için kullanılır."
   ]
  },
  {
   "cell_type": "code",
   "execution_count": 28,
   "metadata": {},
   "outputs": [
    {
     "name": "stdout",
     "output_type": "stream",
     "text": [
      "Orijinal Matris:\n",
      "[[1 2]\n",
      " [3 4]]\n",
      "\n",
      "Ters Matris:\n",
      "[[-2.   1. ]\n",
      " [ 1.5 -0.5]]\n"
     ]
    }
   ],
   "source": [
    "# Matrisi tanımla\n",
    "matrix = np.array([[1, 2],\n",
    "                   [3, 4]])\n",
    "\n",
    "# Tersini hesaplayın\n",
    "ters_matris = np.linalg.inv(matrix)\n",
    "\n",
    "print(\"Orijinal Matris:\")\n",
    "print(matrix)\n",
    "\n",
    "print(\"\\nTers Matris:\")\n",
    "print(ters_matris)"
   ]
  },
  {
   "cell_type": "markdown",
   "metadata": {},
   "source": [
    "##### Transpoze\n",
    "\n",
    "Bir matrisin transpozesi, matrisin satırlarını sütunlarla değiştiren bir işlemdir. Elde edilen matris, orijinal matrisin transpozu olarak adlandırılır. Orijinal matris A ile gösteriliyorsa, transpozu A^T veya A' ile gösterilir.\n",
    "\n",
    "Matematiksel olarak, A m x n boyutlu bir matris ise, transpozu A^T n x m boyutlu bir matristir ve A'nın i. satır ve j. sütunundaki eleman A^T matrisindeki j. satırın i. sütunundaki elemandır.\n",
    "\n",
    "Daha basit bir ifadeyle, orijinal matrisin satırları transpoze matrisin sütunları olur ve orijinal matrisin sütunları transpoze matrisin satırları olur."
   ]
  },
  {
   "cell_type": "code",
   "execution_count": 29,
   "metadata": {},
   "outputs": [
    {
     "name": "stdout",
     "output_type": "stream",
     "text": [
      "Orjinal Matris:\n",
      "[[1 2 3]\n",
      " [4 5 6]]\n",
      "\n",
      "Transpoze Matris:\n",
      "[[1 4]\n",
      " [2 5]\n",
      " [3 6]]\n"
     ]
    }
   ],
   "source": [
    "# Matris Tanımla\n",
    "matrix = np.array([[1, 2, 3],\n",
    "                   [4, 5, 6]])\n",
    "\n",
    "# Transpozeyi hesapla\n",
    "transpose_matrix = np.transpose(matrix)\n",
    "\n",
    "print(\"Orjinal Matris:\")\n",
    "print(matrix)\n",
    "\n",
    "print(\"\\nTranspoze Matris:\")\n",
    "print(transpose_matrix)"
   ]
  },
  {
   "cell_type": "markdown",
   "metadata": {},
   "source": [
    "##### Kompleks Eşlenik (Complex Conjugate)\n",
    "\n",
    "Matrislerde \"karmaşık eşlenik\" terimi, matrisin her bir elemanı karmaşık bir sayı olduğunda, her bir elemanın eşlenik karmaşık sayısının alınmasıyla oluşturulan yeni bir matrisi ifade eder.\n",
    "\n",
    "<table>\n",
    "  <tr>\n",
    "    <td>3 + 2i</td>\n",
    "    <td>1 - 5i</td>\n",
    "  </tr>\n",
    "  <tr>\n",
    "    <td>7 + 9i</td>\n",
    "    <td>4 + 6i</td>\n",
    "  </tr>\n",
    "</table>\n",
    "\n",
    "\n",
    "<table border=\"1\">\n",
    "  <tr>\n",
    "    <td>3 - 2i</td>\n",
    "    <td>1 + 5i</td>\n",
    "  </tr>\n",
    "  <tr>\n",
    "    <td>7 - 9i</td>\n",
    "    <td>4 - 6i</td>\n",
    "  </tr>\n",
    "</table>\n",
    "\n",
    "Eşlenik transpoze veya Hermitian transpoze olarak da bilinen bir matrisin eşlenik transpozesi, iki adımdan oluşan matematiksel bir işlemdir: önce matrisin transpozesini almak, ardından her bir elemanın karmaşık eşleniğini almak.\n",
    "\n",
    "Eğer A bir matris ise, onun adjoint transpozu A^† veya A^H olarak gösterilir. Bu işlemde, önce A matrisinin transpozu alınır, daha sonra her bir elemanın karmaşık eşleniği alınır.\n",
    "\n",
    "Matematiksel olarak, eğer A m x n boyutunda bir matris ise, o zaman A^† adjoint transpozu n x m boyutunda bir matristir ve A^† matrisinin i. satır ve j. sütunundaki eleman, A matrisinin j. satır ve i. sütunundaki elemanın karmaşık eşleniğidir.\n",
    "\n",
    "Daha basit bir ifadeyle, orijinal matrisin satırları adjoint transpoze matrisin sütunları haline gelir ve her bir elemanın karmaşık eşleniği alınır."
   ]
  },
  {
   "cell_type": "code",
   "execution_count": 30,
   "metadata": {},
   "outputs": [
    {
     "name": "stdout",
     "output_type": "stream",
     "text": [
      "Orijinal Matris:\n",
      "[[1.+2.j 3.-4.j]\n",
      " [5.+6.j 7.-8.j]]\n",
      "\n",
      "Eşlenik Transpoze Matrisi:\n",
      "[[1.-2.j 5.-6.j]\n",
      " [3.+4.j 7.+8.j]]\n"
     ]
    }
   ],
   "source": [
    "# Matris Tanımla\n",
    "matrix = np.array([[1+2j, 3-4j],\n",
    "                   [5+6j, 7-8j]])\n",
    "\n",
    "# Eşlenik transpozeyi hesaplayın\n",
    "adjoint_transpose_matrix = np.conjugate(np.transpose(matrix))\n",
    "\n",
    "print(\"Orijinal Matris:\")\n",
    "print(matrix)\n",
    "\n",
    "print(\"\\nEşlenik Transpoze Matrisi:\")\n",
    "print(adjoint_transpose_matrix)"
   ]
  },
  {
   "cell_type": "markdown",
   "metadata": {},
   "source": [
    "##### Üniter Matrisi (Unitery Matrix)\n",
    "\n",
    "Üniter matris veya birim matris, lineer cebirde önemli bir kavramdır. Bir matrisin üniter olması, eşlenik transpozesinin (Hermitian transpozesi) tersine eşit olduğu anlamına gelir.\n",
    "\n",
    "Matematiksel olarak, eğer A matrisi üniter ise, aşağıdaki koşul sağlanmış demektir:\n",
    "A * A^† = A^† * A = I\n",
    "\n",
    "Burada A matrisi A^† matrisinin tersine eşittir ve I kimlik matrisidir.\n",
    "\n",
    "Üniter matrisler çeşitli matematiksel ve fiziksel uygulamalarda kullanılır. Özellikle kuantum mekaniği ve dalga teorisinde yaygındırlar."
   ]
  },
  {
   "cell_type": "code",
   "execution_count": 31,
   "metadata": {},
   "outputs": [
    {
     "name": "stdout",
     "output_type": "stream",
     "text": [
      "Orijinal Matris:\n",
      "[[ 0.+1.j  1.+0.j]\n",
      " [ 1.+0.j -0.-1.j]]\n",
      "\n",
      "Eşlenik Transpoze Matrisi:\n",
      "[[ 0.-1.j  1.-0.j]\n",
      " [ 1.-0.j -0.+1.j]]\n",
      "\n",
      "Ürün Matris:\n",
      "[[ 2.+0.j -0.+2.j]\n",
      " [ 0.-2.j  2.+0.j]]\n"
     ]
    }
   ],
   "source": [
    "# 2x2'lik bir matris tanımlayın\n",
    "matrix = np.array([[1j, 1],\n",
    "                   [1, -1j]])\n",
    "\n",
    "# Eşlenik transpozeyi al\n",
    "adjoint_transpose = np.conjugate(np.transpose(matrix))\n",
    "\n",
    "# Matrisi adjoint transpozesi ile çarpın\n",
    "product = np.dot(matrix, adjoint_transpose)\n",
    "\n",
    "# Sonuçları yazdır\n",
    "print(\"Orijinal Matris:\")\n",
    "print(matrix)\n",
    "\n",
    "print(\"\\nEşlenik Transpoze Matrisi:\")\n",
    "print(adjoint_transpose)\n",
    "\n",
    "print(\"\\nÜrün Matris:\")\n",
    "print(product)"
   ]
  },
  {
   "cell_type": "markdown",
   "metadata": {},
   "source": [
    "##### Hermiyon matrisi (Hermitian Matrix)\n",
    "\n",
    "Bir matrisin Hermitian (öz eşlenik veya öz simetrik) olması, matris transpoze edildiğinde her bir elemanın karmaşık eşleniği ile aynı olduğu anlamına gelir<br>\n",
    "A^† = A"
   ]
  },
  {
   "cell_type": "code",
   "execution_count": 32,
   "metadata": {},
   "outputs": [
    {
     "name": "stdout",
     "output_type": "stream",
     "text": [
      "Orijinal Matrix:\n",
      "[[3.+2.j 1.-5.j]\n",
      " [1.+5.j 4.+6.j]]\n",
      "\n",
      "Transpoze Matris:\n",
      "[[3.+2.j 1.+5.j]\n",
      " [1.-5.j 4.+6.j]]\n",
      "\n",
      "Karmaşık Eşlenik Matris:\n",
      "[[3.-2.j 1.+5.j]\n",
      " [1.-5.j 4.-6.j]]\n",
      "\n",
      "Matris Hermitian değildir.\n"
     ]
    }
   ],
   "source": [
    "# Bir Hermitian matris tanımlayın\n",
    "matrix = np.array([[3 + 2j, 1 - 5j],\n",
    "                   [1 + 5j, 4 + 6j]])\n",
    "\n",
    "# Matrisin transpozesini alın ve karmaşık eşleniğini hesaplayın\n",
    "transpose = np.transpose(matrix)\n",
    "conjugate = np.conjugate(matrix)\n",
    "\n",
    "# Matrisin Hermitian olup olmadığını kontrol edin\n",
    "is_hermitian = np.allclose(transpose, conjugate)\n",
    "\n",
    "# Sonuçları yazdır\n",
    "print(\"Orijinal Matrix:\")\n",
    "print(matrix)\n",
    "\n",
    "print(\"\\nTranspoze Matris:\")\n",
    "print(transpose)\n",
    "\n",
    "print(\"\\nKarmaşık Eşlenik Matris:\")\n",
    "print(conjugate)\n",
    "\n",
    "if is_hermitian:\n",
    "    print(\"\\nMatris Hermitian'dır.\")\n",
    "else:\n",
    "    print(\"\\nMatris Hermitian değildir.\")"
   ]
  },
  {
   "cell_type": "markdown",
   "metadata": {},
   "source": [
    "##### Vektör\n",
    "\n",
    "Kuantum bilgisayarlarda vektörler kübitlerin durumlarını temsil etmek için kullanılır. Kuantum hesaplamada vektörler ve matrisler, kübit durumlarını ve kuantum kapılarının etkileşimini anlamada önemli bir rol oynar."
   ]
  }
 ],
 "metadata": {
  "kernelspec": {
   "display_name": "Python 3",
   "language": "python",
   "name": "python3"
  },
  "language_info": {
   "codemirror_mode": {
    "name": "ipython",
    "version": 3
   },
   "file_extension": ".py",
   "mimetype": "text/x-python",
   "name": "python",
   "nbconvert_exporter": "python",
   "pygments_lexer": "ipython3",
   "version": "3.8.2"
  },
  "orig_nbformat": 4
 },
 "nbformat": 4,
 "nbformat_minor": 2
}
